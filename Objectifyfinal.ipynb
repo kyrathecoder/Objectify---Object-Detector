{
 "cells": [
  {
   "cell_type": "code",
   "execution_count": 2,
   "id": "c1535f42",
   "metadata": {},
   "outputs": [
    {
     "name": "stdout",
     "output_type": "stream",
     "text": [
      "Requirement already satisfied: opencv_python in c:\\users\\kyrar\\appdata\\local\\programs\\python\\python39\\lib\\site-packages (4.6.0.66)\n",
      "Requirement already satisfied: numpy>=1.19.3 in c:\\users\\kyrar\\appdata\\local\\programs\\python\\python39\\lib\\site-packages (from opencv_python) (1.23.0)\n"
     ]
    },
    {
     "name": "stderr",
     "output_type": "stream",
     "text": [
      "WARNING: You are using pip version 21.2.3; however, version 22.2.2 is available.\n",
      "You should consider upgrading via the 'C:\\Users\\kyrar\\AppData\\Local\\Programs\\Python\\Python39\\python.exe -m pip install --upgrade pip' command.\n"
     ]
    },
    {
     "name": "stdout",
     "output_type": "stream",
     "text": [
      "Requirement already satisfied: numpy in c:\\users\\kyrar\\appdata\\local\\programs\\python\\python39\\lib\\site-packages (1.23.0)\n"
     ]
    },
    {
     "name": "stderr",
     "output_type": "stream",
     "text": [
      "WARNING: You are using pip version 21.2.3; however, version 22.2.2 is available.\n",
      "You should consider upgrading via the 'C:\\Users\\kyrar\\AppData\\Local\\Programs\\Python\\Python39\\python.exe -m pip install --upgrade pip' command.\n"
     ]
    },
    {
     "name": "stdout",
     "output_type": "stream",
     "text": [
      "Requirement already satisfied: pandas in c:\\users\\kyrar\\appdata\\local\\programs\\python\\python39\\lib\\site-packages (1.4.3)\n",
      "Requirement already satisfied: numpy>=1.18.5 in c:\\users\\kyrar\\appdata\\local\\programs\\python\\python39\\lib\\site-packages (from pandas) (1.23.0)\n",
      "Requirement already satisfied: pytz>=2020.1 in c:\\users\\kyrar\\appdata\\local\\programs\\python\\python39\\lib\\site-packages (from pandas) (2022.1)\n",
      "Requirement already satisfied: python-dateutil>=2.8.1 in c:\\users\\kyrar\\appdata\\local\\programs\\python\\python39\\lib\\site-packages (from pandas) (2.8.2)\n",
      "Requirement already satisfied: six>=1.5 in c:\\users\\kyrar\\appdata\\local\\programs\\python\\python39\\lib\\site-packages (from python-dateutil>=2.8.1->pandas) (1.16.0)\n"
     ]
    },
    {
     "name": "stderr",
     "output_type": "stream",
     "text": [
      "WARNING: You are using pip version 21.2.3; however, version 22.2.2 is available.\n",
      "You should consider upgrading via the 'C:\\Users\\kyrar\\AppData\\Local\\Programs\\Python\\Python39\\python.exe -m pip install --upgrade pip' command.\n"
     ]
    },
    {
     "name": "stdout",
     "output_type": "stream",
     "text": [
      "Requirement already satisfied: pyttsx3 in c:\\users\\kyrar\\appdata\\local\\programs\\python\\python39\\lib\\site-packages (2.90)\n",
      "Requirement already satisfied: pypiwin32 in c:\\users\\kyrar\\appdata\\local\\programs\\python\\python39\\lib\\site-packages (from pyttsx3) (223)\n",
      "Requirement already satisfied: comtypes in c:\\users\\kyrar\\appdata\\local\\programs\\python\\python39\\lib\\site-packages (from pyttsx3) (1.1.11)\n",
      "Requirement already satisfied: pywin32 in c:\\users\\kyrar\\appdata\\local\\programs\\python\\python39\\lib\\site-packages (from pyttsx3) (304)\n"
     ]
    },
    {
     "name": "stderr",
     "output_type": "stream",
     "text": [
      "WARNING: You are using pip version 21.2.3; however, version 22.2.2 is available.\n",
      "You should consider upgrading via the 'C:\\Users\\kyrar\\AppData\\Local\\Programs\\Python\\Python39\\python.exe -m pip install --upgrade pip' command.\n"
     ]
    },
    {
     "name": "stdout",
     "output_type": "stream",
     "text": [
      "Requirement already satisfied: PyPDF2 in c:\\users\\kyrar\\appdata\\local\\programs\\python\\python39\\lib\\site-packages (2.3.1)\n",
      "Requirement already satisfied: typing-extensions in c:\\users\\kyrar\\appdata\\local\\programs\\python\\python39\\lib\\site-packages (from PyPDF2) (4.2.0)\n",
      "all libraries are installed\n"
     ]
    },
    {
     "name": "stderr",
     "output_type": "stream",
     "text": [
      "WARNING: You are using pip version 21.2.3; however, version 22.2.2 is available.\n",
      "You should consider upgrading via the 'C:\\Users\\kyrar\\AppData\\Local\\Programs\\Python\\Python39\\python.exe -m pip install --upgrade pip' command.\n"
     ]
    }
   ],
   "source": [
    "!pip install opencv_python\n",
    "!pip install numpy\n",
    "!pip install pandas\n",
    "!pip install pyttsx3\n",
    "!pip install PyPDF2\n",
    "print('all libraries are installed')"
   ]
  },
  {
   "cell_type": "code",
   "execution_count": 1,
   "id": "8c9e6993",
   "metadata": {},
   "outputs": [],
   "source": [
    "import cv2\n",
    "import numpy as np\n",
    "import PyPDF2\n",
    "import pyttsx3\n",
    "from PyPDF2 import PdfFileReader\n",
    "\n",
    "yolo = cv2.dnn.readNet(\"yolov3.weights\", \"yolov3.cfg\")\n",
    "classes = []\n",
    "\n",
    "def speaktext(text):\n",
    "    friend=pyttsx3.init()\n",
    "    friend.say(text)\n",
    "    friend.runAndWait()\n",
    "\n",
    "with open(\"cocofinal.txt\", \"r\") as file:\n",
    "    classes = [line.strip() for line in file.readlines()]\n",
    "layer_names = yolo.getLayerNames()\n",
    "output_layers = [layer_names[i - 1] for i in yolo.getUnconnectedOutLayers()]\n",
    "\n",
    "colorRed = (0,0,255)\n",
    "colorGreen = (0,255,0)\n",
    "\n",
    "# #Loading Images\n",
    "def functionName(filename):\n",
    "    img = cv2.imread(filename)\n",
    "    height, width, channels = img.shape\n",
    "\n",
    "# # Detecting objects\n",
    "    blob = cv2.dnn.blobFromImage(img, 0.00392, (416, 416), (0, 0, 0), True, crop=False)\n",
    "\n",
    "    yolo.setInput(blob)\n",
    "    outputs = yolo.forward(output_layers)\n",
    "\n",
    "    class_ids = []\n",
    "    confidences = []\n",
    "    boxes = []\n",
    "    for output in outputs:\n",
    "        for detection in output:\n",
    "            scores = detection[5:]\n",
    "            class_id = np.argmax(scores)\n",
    "            confidence = scores[class_id]\n",
    "            if confidence > 0.5:\n",
    "                center_x = int(detection[0] * width)\n",
    "                center_y = int(detection[1] * height)\n",
    "                w = int(detection[2] * width)\n",
    "                h = int(detection[3] * height)\n",
    "\n",
    "                x = int(center_x - w / 2)\n",
    "                y = int(center_y - h / 2)\n",
    "\n",
    "                boxes.append([x, y, w, h])\n",
    "                confidences.append(float(confidence))\n",
    "                class_ids.append(class_id)\n",
    "\n",
    "                \n",
    "    indexes = cv2.dnn.NMSBoxes(boxes, confidences, 0.5, 0.4)\n",
    "    l=[]\n",
    "    for i in range(len(boxes)):\n",
    "        if i in indexes:\n",
    "            x, y, w, h = boxes[i]\n",
    "            label = str(classes[class_ids[i]])\n",
    "            cv2.rectangle(img, (x, y), (x + w, y + h), colorGreen, 5)\n",
    "            cv2.putText(img, label, (x, y + 10), cv2.FONT_HERSHEY_PLAIN, 2, colorRed, 2)\n",
    "            l.append(label)\n",
    "            #speaktext('This is '+ label) \n",
    "\n",
    "\n",
    "    cv2.imshow(\"Image\", img)\n",
    "    cv2.imwrite(\"finalobjectoutputtest.jpg\",img)\n",
    "    cv2.waitKey(1)\n",
    "    for i in l:\n",
    "        speaktext('This is '+i)\n",
    "    cv2.destroyAllWindows()\n",
    "\n",
    "#functionName(\"image.jpg\")             \n"
   ]
  },
  {
   "cell_type": "code",
   "execution_count": 2,
   "id": "c22c42d5",
   "metadata": {},
   "outputs": [
    {
     "name": "stdout",
     "output_type": "stream",
     "text": [
      "Selected: C:/Users/kyrar/Desktop/workimage3.jpg\n",
      "\n"
     ]
    }
   ],
   "source": [
    "import tkinter as tk\n",
    "from matplotlib.backends.backend_tkagg import FigureCanvasTkAgg\n",
    "from tkinter import *\n",
    "from PIL import Image\n",
    "import cv2\n",
    "import webbrowser\n",
    "from tkinter import filedialog\n",
    "root= tk.Tk()\n",
    "\n",
    "#Make a Canvas (i.e, a screen for your project\n",
    "canvas1 = tk.Canvas(root, width = 1300, height = 1900 )\n",
    "canvas1.configure(bg='light pink')\n",
    "\n",
    "\n",
    "\n",
    "# Add image file\n",
    "bg = PhotoImage(file = \"camerafinal.png\")\n",
    "# Display image\n",
    "canvas1.create_image( 110, 130, image = bg,anchor = \"nw\")\n",
    "\n",
    "\n",
    "# Add image file\n",
    "bgg = PhotoImage(file = \"logowork.png\")\n",
    "# Display image\n",
    "canvas1.create_image( 10,40 , image = bgg,anchor = \"nw\")\n",
    "\n",
    "\n",
    "# Adding widgets to the root window\n",
    "Label(root, text = 'Objectify', font =('Verdana', 15)).pack(side = TOP, pady = 50)\n",
    "\n",
    "# Popularity label and input box\n",
    "label1 = tk.Label(root, text=' Welcome to Object detector! : ')\n",
    "\n",
    "canvas1.create_window(10, 20, window=label1)\n",
    "\n",
    "#Feedback\n",
    "label3 = tk.Label(root, text=' How did you find our services of our application? : ')\n",
    "canvas1.create_window(1000, 360, window=label3)\n",
    "\n",
    "var1=StringVar()\n",
    "entry3 = tk.Entry (root, textvariable=var1) \n",
    "canvas1.create_window(1000, 400, window=entry3)\n",
    "\n",
    "def btn3():\n",
    "    webbrowser.open('https://tinyurl.com/yvw3esj6')\n",
    "    speaktext('You have entered the user feedback document, feel free to share your opinion')\n",
    "    speaktext('And once again thank you for your time!')\n",
    "    \n",
    "button3=tk.Button(root, text=\"user feedback\", command=btn3)\n",
    "canvas1.create_window(1225, 570, window=button3)\n",
    "button3.configure(bg='yellow')\n",
    "\n",
    "def btn1():\n",
    "    try:\n",
    "        print(var1.get())\n",
    "        speaktext('Thank you for using our application and your feedback')\n",
    "        speaktext('For detail feedback please click on the user feedback button and fill it out' )\n",
    "    except:\n",
    "        speaktext('please write your feedback')\n",
    "    \n",
    "\n",
    "button1 = tk.Button (root, text='Sumbit your feedback',command=btn1)\n",
    "canvas1.create_window(1000, 440, window=button1)\n",
    "button1.configure(bg='orange')\n",
    "\n",
    "def UploadAction(event=None):\n",
    "    global filename\n",
    "    filename = filedialog.askopenfilename()\n",
    "    print('Selected:', filename)\n",
    "    functionName(filename)\n",
    "    \n",
    "\n",
    "#root = tk.Tk()\n",
    "button = tk.Button(root, text='Open', command=UploadAction)\n",
    "canvas1.create_window(750, 300, window=button)\n",
    "button.pack()\n",
    "canvas1.pack()\n",
    "\n",
    "\n",
    "#To see the GUI screen\n",
    "root.mainloop()"
   ]
  }
 ],
 "metadata": {
  "kernelspec": {
   "display_name": "Python 3 (ipykernel)",
   "language": "python",
   "name": "python3"
  },
  "language_info": {
   "codemirror_mode": {
    "name": "ipython",
    "version": 3
   },
   "file_extension": ".py",
   "mimetype": "text/x-python",
   "name": "python",
   "nbconvert_exporter": "python",
   "pygments_lexer": "ipython3",
   "version": "3.9.7"
  }
 },
 "nbformat": 4,
 "nbformat_minor": 5
}
